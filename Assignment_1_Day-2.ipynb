{
  "nbformat": 4,
  "nbformat_minor": 0,
  "metadata": {
    "colab": {
      "name": "Assignment 1.ipynb",
      "provenance": [],
      "collapsed_sections": [],
      "authorship_tag": "ABX9TyM886PwdhWuNX66gW9ELK4b"
    },
    "kernelspec": {
      "name": "python3",
      "display_name": "Python 3"
    }
  },
  "cells": [
    {
      "cell_type": "markdown",
      "metadata": {
        "id": "DWWix6mSMSbu"
      },
      "source": [
        ""
      ]
    },
    {
      "cell_type": "code",
      "metadata": {
        "id": "JxfOyCmdMUXm"
      },
      "source": [
        "# Question 1.\r\n",
        "\r\n",
        "# Do Experiment with 5 List's In-built functions and post it to Github\r\n",
        "\r\n",
        "list1 = [3,4,53,34,'rohit',['r','s'],234,3423]\r\n",
        "\r\n"
      ],
      "execution_count": null,
      "outputs": []
    },
    {
      "cell_type": "code",
      "metadata": {
        "id": "BU8pQlE1NukD",
        "colab": {
          "base_uri": "https://localhost:8080/"
        },
        "outputId": "5467ecf7-ec04-44c3-a76b-5e09f3e30d27"
      },
      "source": [
        "# 1. append()\r\n",
        "\r\n",
        "list1.append('name')\r\n",
        "\r\n",
        "print(list1)\r\n"
      ],
      "execution_count": 20,
      "outputs": [
        {
          "output_type": "stream",
          "text": [
            "[3, 4, 53, 34, 'rohit', ['r', 's'], 234, 3423, 'name', 'name']\n"
          ],
          "name": "stdout"
        }
      ]
    },
    {
      "cell_type": "code",
      "metadata": {
        "colab": {
          "base_uri": "https://localhost:8080/"
        },
        "id": "s0CATUaJhRHZ",
        "outputId": "547a451f-8571-4942-9151-7058d85d2aae"
      },
      "source": [
        "# 2. insert()\r\n",
        "\r\n",
        "list1.insert(2,'soham')\r\n",
        "\r\n",
        "print(list1)"
      ],
      "execution_count": 22,
      "outputs": [
        {
          "output_type": "stream",
          "text": [
            "[3, 4, 'soham', 53, 34, 'rohit', ['r', 's'], 234, 3423, 'name', 'name']\n"
          ],
          "name": "stdout"
        }
      ]
    },
    {
      "cell_type": "code",
      "metadata": {
        "colab": {
          "base_uri": "https://localhost:8080/"
        },
        "id": "qyQ8ZP5jhxoS",
        "outputId": "0a32650b-ee3f-49e4-ad7d-122f96501839"
      },
      "source": [
        "# 3. remove\r\n",
        "\r\n",
        "list1.remove('name')\r\n",
        "\r\n",
        "list1"
      ],
      "execution_count": 23,
      "outputs": [
        {
          "output_type": "execute_result",
          "data": {
            "text/plain": [
              "[3, 4, 'soham', 53, 34, 'rohit', ['r', 's'], 234, 3423, 'name']"
            ]
          },
          "metadata": {
            "tags": []
          },
          "execution_count": 23
        }
      ]
    },
    {
      "cell_type": "code",
      "metadata": {
        "colab": {
          "base_uri": "https://localhost:8080/"
        },
        "id": "l-glSdh1iNDf",
        "outputId": "9baf9daa-a7a7-4ab9-b6cb-425eef8b172f"
      },
      "source": [
        "# 4. sort() \r\n",
        "\r\n",
        "list2 = [34,23,54,46,67,56]\r\n",
        "\r\n",
        "list2\r\n",
        "\r\n",
        "list2.sort()\r\n",
        "\r\n",
        "list2\r\n"
      ],
      "execution_count": 28,
      "outputs": [
        {
          "output_type": "execute_result",
          "data": {
            "text/plain": [
              "[23, 34, 46, 54, 56, 67]"
            ]
          },
          "metadata": {
            "tags": []
          },
          "execution_count": 28
        }
      ]
    },
    {
      "cell_type": "code",
      "metadata": {
        "colab": {
          "base_uri": "https://localhost:8080/"
        },
        "id": "2-AoVtn2jAzn",
        "outputId": "a0dac422-fed0-4dea-ee70-9fe96f56d340"
      },
      "source": [
        "# 5. reverse \r\n",
        "\r\n",
        "list3 = ['A','B','C','D','E']\r\n",
        "\r\n",
        "list3.reverse()\r\n",
        "\r\n",
        "print(list3)"
      ],
      "execution_count": 29,
      "outputs": [
        {
          "output_type": "stream",
          "text": [
            "['E', 'D', 'C', 'B', 'A']\n"
          ],
          "name": "stdout"
        }
      ]
    },
    {
      "cell_type": "code",
      "metadata": {
        "colab": {
          "base_uri": "https://localhost:8080/"
        },
        "id": "3JGK-pHhkVYQ",
        "outputId": "3df35e3c-29c0-467c-c10f-c90377fc7aac"
      },
      "source": [
        "# Question 2\r\n",
        "# Do Experiment with 5 Dictionary’s In-Built Functions, and post it to Github\r\n",
        "\r\n",
        "dis = {\"Name\":\"Rohit\",\"Age\":20,\"loc\":\"Mumbai\"}\r\n",
        "\r\n",
        "dis"
      ],
      "execution_count": 31,
      "outputs": [
        {
          "output_type": "execute_result",
          "data": {
            "text/plain": [
              "{'Age': 20, 'Name': 'Rohit', 'loc': 'Mumbai'}"
            ]
          },
          "metadata": {
            "tags": []
          },
          "execution_count": 31
        }
      ]
    },
    {
      "cell_type": "code",
      "metadata": {
        "colab": {
          "base_uri": "https://localhost:8080/"
        },
        "id": "qVqZV0XFlNuz",
        "outputId": "831af6e4-c4ba-4575-b077-0e2dc3ae6adc"
      },
      "source": [
        "# 1. get\r\n",
        "\r\n",
        "print(dis.get(\"Name\"))"
      ],
      "execution_count": 33,
      "outputs": [
        {
          "output_type": "stream",
          "text": [
            "Rohit\n"
          ],
          "name": "stdout"
        }
      ]
    },
    {
      "cell_type": "code",
      "metadata": {
        "colab": {
          "base_uri": "https://localhost:8080/"
        },
        "id": "HlkbWtM2mCsl",
        "outputId": "e039c605-4745-48b9-c58c-7b91cdfe1aba"
      },
      "source": [
        "# 2. keys\r\n",
        "\r\n",
        "print(dis.keys())"
      ],
      "execution_count": 34,
      "outputs": [
        {
          "output_type": "stream",
          "text": [
            "dict_keys(['Name', 'Age', 'loc'])\n"
          ],
          "name": "stdout"
        }
      ]
    },
    {
      "cell_type": "code",
      "metadata": {
        "colab": {
          "base_uri": "https://localhost:8080/"
        },
        "id": "nkI_NaoEmvIr",
        "outputId": "f0b17177-ace6-44c0-c4f1-8e907504b835"
      },
      "source": [
        "# 3.values\r\n",
        "\r\n",
        "print(dis.values())\r\n"
      ],
      "execution_count": 35,
      "outputs": [
        {
          "output_type": "stream",
          "text": [
            "dict_values(['Rohit', 20, 'Mumbai'])\n"
          ],
          "name": "stdout"
        }
      ]
    },
    {
      "cell_type": "code",
      "metadata": {
        "colab": {
          "base_uri": "https://localhost:8080/"
        },
        "id": "oAV1pJ5Om9tS",
        "outputId": "841d4627-9417-4e79-9070-3f33d05f05e5"
      },
      "source": [
        "# 4. items\r\n",
        "\r\n",
        "print(dis.items())\r\n"
      ],
      "execution_count": 41,
      "outputs": [
        {
          "output_type": "stream",
          "text": [
            "dict_items([('Name', 'Rohit'), ('Age', 20), ('loc', 'Mumbai')])\n"
          ],
          "name": "stdout"
        }
      ]
    },
    {
      "cell_type": "code",
      "metadata": {
        "colab": {
          "base_uri": "https://localhost:8080/"
        },
        "id": "PPv3xIp5psrp",
        "outputId": "d61be218-6631-414b-acad-ec7bfab56784"
      },
      "source": [
        "# 5.clear \r\n",
        "\r\n",
        "print(dis.clear())"
      ],
      "execution_count": 42,
      "outputs": [
        {
          "output_type": "stream",
          "text": [
            "None\n"
          ],
          "name": "stdout"
        }
      ]
    }
  ]
}
