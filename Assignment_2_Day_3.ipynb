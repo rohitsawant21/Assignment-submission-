{
  "nbformat": 4,
  "nbformat_minor": 0,
  "metadata": {
    "colab": {
      "name": "Assignment_2_Day-3.ipynb",
      "provenance": [],
      "collapsed_sections": []
    },
    "kernelspec": {
      "name": "python3",
      "display_name": "Python 3"
    }
  },
  "cells": [
    {
      "cell_type": "code",
      "metadata": {
        "colab": {
          "base_uri": "https://localhost:8080/"
        },
        "id": "JMbm0zNGkTrO",
        "outputId": "e34aa208-d5c0-4e20-8e0e-17321151bf70"
      },
      "source": [
        "# Question 1\r\n",
        "\r\n",
        "\r\n",
        "altitude = input(\"enter Altitude : \")\r\n",
        "\r\n",
        "if int(altitude) == 1000:\r\n",
        "\r\n",
        "    print(\"Safe to land\")\r\n",
        "\r\n",
        "elif int(altitude) < 1000:\r\n",
        "\r\n",
        "    print(\"land the plane\")\r\n",
        "\r\n",
        "elif int(altitude) > 5000:\r\n",
        "    print(\"go around and try later\")\r\n",
        "    \r\n",
        "else:\r\n",
        "    print(\"come down to 1000ft\")\r\n",
        "\r\n",
        "   \r\n"
      ],
      "execution_count": 4,
      "outputs": [
        {
          "output_type": "stream",
          "text": [
            "enter Altitude : 1000\n",
            "Safe to land\n"
          ],
          "name": "stdout"
        }
      ]
    }
  ]
}